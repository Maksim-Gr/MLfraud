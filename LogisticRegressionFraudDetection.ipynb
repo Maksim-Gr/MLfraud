{
 "cells": [
  {
   "cell_type": "code",
   "execution_count": 2,
   "id": "ab042e6d",
   "metadata": {},
   "outputs": [],
   "source": [
    "import pandas as pd"
   ]
  },
  {
   "cell_type": "code",
   "execution_count": 3,
   "id": "d198e3df",
   "metadata": {},
   "outputs": [],
   "source": [
    "# Read data from the CSV file\n",
    "df = pd.read_csv(\"dataset/payment_fraud.csv\")"
   ]
  },
  {
   "cell_type": "code",
   "execution_count": 4,
   "id": "fa8f62a7",
   "metadata": {},
   "outputs": [
    {
     "data": {
      "text/html": [
       "<div>\n",
       "<style scoped>\n",
       "    .dataframe tbody tr th:only-of-type {\n",
       "        vertical-align: middle;\n",
       "    }\n",
       "\n",
       "    .dataframe tbody tr th {\n",
       "        vertical-align: top;\n",
       "    }\n",
       "\n",
       "    .dataframe thead th {\n",
       "        text-align: right;\n",
       "    }\n",
       "</style>\n",
       "<table border=\"1\" class=\"dataframe\">\n",
       "  <thead>\n",
       "    <tr style=\"text-align: right;\">\n",
       "      <th></th>\n",
       "      <th>accountAgeDays</th>\n",
       "      <th>numItems</th>\n",
       "      <th>localTime</th>\n",
       "      <th>paymentMethod</th>\n",
       "      <th>paymentMethodAgeDays</th>\n",
       "      <th>label</th>\n",
       "    </tr>\n",
       "  </thead>\n",
       "  <tbody>\n",
       "    <tr>\n",
       "      <th>30616</th>\n",
       "      <td>545</td>\n",
       "      <td>1</td>\n",
       "      <td>4.524580</td>\n",
       "      <td>creditcard</td>\n",
       "      <td>0.032639</td>\n",
       "      <td>0</td>\n",
       "    </tr>\n",
       "    <tr>\n",
       "      <th>28430</th>\n",
       "      <td>779</td>\n",
       "      <td>1</td>\n",
       "      <td>3.954522</td>\n",
       "      <td>paypal</td>\n",
       "      <td>0.000000</td>\n",
       "      <td>0</td>\n",
       "    </tr>\n",
       "    <tr>\n",
       "      <th>31505</th>\n",
       "      <td>2000</td>\n",
       "      <td>1</td>\n",
       "      <td>4.921318</td>\n",
       "      <td>storecredit</td>\n",
       "      <td>1426.220139</td>\n",
       "      <td>0</td>\n",
       "    </tr>\n",
       "  </tbody>\n",
       "</table>\n",
       "</div>"
      ],
      "text/plain": [
       "       accountAgeDays  numItems  localTime paymentMethod  \\\n",
       "30616             545         1   4.524580    creditcard   \n",
       "28430             779         1   3.954522        paypal   \n",
       "31505            2000         1   4.921318   storecredit   \n",
       "\n",
       "       paymentMethodAgeDays  label  \n",
       "30616              0.032639      0  \n",
       "28430              0.000000      0  \n",
       "31505           1426.220139      0  "
      ]
     },
     "execution_count": 4,
     "metadata": {},
     "output_type": "execute_result"
    }
   ],
   "source": [
    "# Get random records from dataframe\n",
    "df.sample(3)"
   ]
  },
  {
   "cell_type": "code",
   "execution_count": 5,
   "id": "ea0e6c84",
   "metadata": {},
   "outputs": [],
   "source": [
    "# Payment method is non-numerical type. \n",
    "# paymentMethod feature is categorical variable\n",
    "# pandas.get_dummies can convert from categoriacal to numneric\n"
   ]
  },
  {
   "cell_type": "code",
   "execution_count": 6,
   "id": "47040df1",
   "metadata": {},
   "outputs": [],
   "source": [
    "# wiil create additional columns\n",
    "df = pd.get_dummies(df, columns=[\"paymentMethod\"])"
   ]
  },
  {
   "cell_type": "code",
   "execution_count": 7,
   "id": "bc95af54",
   "metadata": {},
   "outputs": [
    {
     "data": {
      "text/html": [
       "<div>\n",
       "<style scoped>\n",
       "    .dataframe tbody tr th:only-of-type {\n",
       "        vertical-align: middle;\n",
       "    }\n",
       "\n",
       "    .dataframe tbody tr th {\n",
       "        vertical-align: top;\n",
       "    }\n",
       "\n",
       "    .dataframe thead th {\n",
       "        text-align: right;\n",
       "    }\n",
       "</style>\n",
       "<table border=\"1\" class=\"dataframe\">\n",
       "  <thead>\n",
       "    <tr style=\"text-align: right;\">\n",
       "      <th></th>\n",
       "      <th>accountAgeDays</th>\n",
       "      <th>numItems</th>\n",
       "      <th>localTime</th>\n",
       "      <th>paymentMethodAgeDays</th>\n",
       "      <th>label</th>\n",
       "      <th>paymentMethod_creditcard</th>\n",
       "      <th>paymentMethod_paypal</th>\n",
       "      <th>paymentMethod_storecredit</th>\n",
       "    </tr>\n",
       "  </thead>\n",
       "  <tbody>\n",
       "    <tr>\n",
       "      <th>21727</th>\n",
       "      <td>52</td>\n",
       "      <td>1</td>\n",
       "      <td>5.040929</td>\n",
       "      <td>51.127083</td>\n",
       "      <td>0</td>\n",
       "      <td>0</td>\n",
       "      <td>0</td>\n",
       "      <td>1</td>\n",
       "    </tr>\n",
       "    <tr>\n",
       "      <th>26233</th>\n",
       "      <td>2000</td>\n",
       "      <td>1</td>\n",
       "      <td>4.876771</td>\n",
       "      <td>737.783333</td>\n",
       "      <td>0</td>\n",
       "      <td>1</td>\n",
       "      <td>0</td>\n",
       "      <td>0</td>\n",
       "    </tr>\n",
       "    <tr>\n",
       "      <th>37593</th>\n",
       "      <td>2000</td>\n",
       "      <td>5</td>\n",
       "      <td>4.505662</td>\n",
       "      <td>496.202778</td>\n",
       "      <td>0</td>\n",
       "      <td>1</td>\n",
       "      <td>0</td>\n",
       "      <td>0</td>\n",
       "    </tr>\n",
       "    <tr>\n",
       "      <th>34769</th>\n",
       "      <td>28</td>\n",
       "      <td>1</td>\n",
       "      <td>4.876771</td>\n",
       "      <td>0.000000</td>\n",
       "      <td>0</td>\n",
       "      <td>1</td>\n",
       "      <td>0</td>\n",
       "      <td>0</td>\n",
       "    </tr>\n",
       "  </tbody>\n",
       "</table>\n",
       "</div>"
      ],
      "text/plain": [
       "       accountAgeDays  numItems  localTime  paymentMethodAgeDays  label  \\\n",
       "21727              52         1   5.040929             51.127083      0   \n",
       "26233            2000         1   4.876771            737.783333      0   \n",
       "37593            2000         5   4.505662            496.202778      0   \n",
       "34769              28         1   4.876771              0.000000      0   \n",
       "\n",
       "       paymentMethod_creditcard  paymentMethod_paypal  \\\n",
       "21727                         0                     0   \n",
       "26233                         1                     0   \n",
       "37593                         1                     0   \n",
       "34769                         1                     0   \n",
       "\n",
       "       paymentMethod_storecredit  \n",
       "21727                          1  \n",
       "26233                          0  \n",
       "37593                          0  \n",
       "34769                          0  "
      ]
     },
     "execution_count": 7,
     "metadata": {},
     "output_type": "execute_result"
    }
   ],
   "source": [
    "df.sample(4)"
   ]
  },
  {
   "cell_type": "code",
   "execution_count": 10,
   "id": "bc906268",
   "metadata": {},
   "outputs": [],
   "source": [
    "# Split data using test split\n",
    "from sklearn.model_selection import train_test_split\n",
    "X_train, X_test, y_train, y_test = train_test_split(\n",
    "    df.drop('label', axis=1), df['label'],test_size=0.33, random_state=17)"
   ]
  },
  {
   "cell_type": "code",
   "execution_count": 11,
   "id": "b988475e",
   "metadata": {},
   "outputs": [
    {
     "data": {
      "text/plain": [
       "LogisticRegression()"
      ]
     },
     "execution_count": 11,
     "metadata": {},
     "output_type": "execute_result"
    }
   ],
   "source": [
    "from sklearn.linear_model import LogisticRegression\n",
    "from sklearn.metrics import accuracy_score\n",
    "clf = LogisticRegression()\n",
    "clf.fit(X_train, y_train)\n"
   ]
  },
  {
   "cell_type": "code",
   "execution_count": 14,
   "id": "d146ff86",
   "metadata": {},
   "outputs": [],
   "source": [
    "# Predict\n",
    "y_pred = clf.predict(X_test)\n",
    "print(accu)"
   ]
  },
  {
   "cell_type": "code",
   "execution_count": null,
   "id": "f9f61e5f",
   "metadata": {},
   "outputs": [],
   "source": []
  }
 ],
 "metadata": {
  "kernelspec": {
   "display_name": "Python 3 (ipykernel)",
   "language": "python",
   "name": "python3"
  },
  "language_info": {
   "codemirror_mode": {
    "name": "ipython",
    "version": 3
   },
   "file_extension": ".py",
   "mimetype": "text/x-python",
   "name": "python",
   "nbconvert_exporter": "python",
   "pygments_lexer": "ipython3",
   "version": "3.10.4"
  }
 },
 "nbformat": 4,
 "nbformat_minor": 5
}
